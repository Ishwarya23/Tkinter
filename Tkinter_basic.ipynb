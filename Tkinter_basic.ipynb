{
 "cells": [
  {
   "cell_type": "code",
   "execution_count": 1,
   "metadata": {},
   "outputs": [],
   "source": [
    "import tkinter"
   ]
  },
  {
   "cell_type": "code",
   "execution_count": 10,
   "metadata": {},
   "outputs": [],
   "source": [
    "window = tkinter.Tk()\n",
    "window.title(\"Hello Ishu\")\n",
    "label = tkinter.Label(window,text=\"All the best\").pack()\n",
    "button = tkinter.Button(window,text=\"Proceed..\",width=50,bg=\"lightblue\").pack()\n",
    "window.geometry('350x200')\n",
    "window.mainloop()"
   ]
  },
  {
   "cell_type": "code",
   "execution_count": 36,
   "metadata": {
    "scrolled": true
   },
   "outputs": [],
   "source": [
    "from tkinter import *\n",
    "from tkinter import ttk\n",
    "from tkinter import messagebox\n",
    "\n",
    "window = Tk()\n",
    "\n",
    "def clicked():\n",
    "    mytext = \"Welcome \"+enter.get()\n",
    "    label1.configure(text=mytext)\n",
    "    label1.grid(column=0,row=3)\n",
    "    message(mytext)\n",
    "    \n",
    "def message(mytext):\n",
    "    txt = mytext + \" you have registered for \" + combo.get()\n",
    "    messagebox.showinfo('Title',txt)\n",
    "\n",
    "label = Label(window,text=\"Enter your name\")\n",
    "enter = Entry(window)\n",
    "combo = ttk.Combobox(window)\n",
    "combo['values'] = ('ML','DL','AI','CNN')\n",
    "bt = Button(window,text=\"Click Me\",bg='lightgrey',command = clicked)\n",
    "label1 = Label(window,text=\"\")\n",
    "\n",
    "label.grid(column=0,row=0)\n",
    "enter.grid(column=1,row=0)\n",
    "combo.grid(column=2,row=0,pady=3)\n",
    "bt.grid(column=1,row=1)\n",
    "    \n",
    "window.geometry('400x200')\n",
    "window.mainloop()"
   ]
  },
  {
   "cell_type": "code",
   "execution_count": null,
   "metadata": {},
   "outputs": [],
   "source": []
  }
 ],
 "metadata": {
  "kernelspec": {
   "display_name": "Python 3",
   "language": "python",
   "name": "python3"
  },
  "language_info": {
   "codemirror_mode": {
    "name": "ipython",
    "version": 3
   },
   "file_extension": ".py",
   "mimetype": "text/x-python",
   "name": "python",
   "nbconvert_exporter": "python",
   "pygments_lexer": "ipython3",
   "version": "3.7.9"
  }
 },
 "nbformat": 4,
 "nbformat_minor": 4
}
